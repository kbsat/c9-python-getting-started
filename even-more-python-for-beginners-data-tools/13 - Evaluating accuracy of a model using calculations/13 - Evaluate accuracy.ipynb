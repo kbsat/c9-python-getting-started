{
 "cells": [
  {
   "cell_type": "markdown",
   "metadata": {},
   "source": [
    "# 계산을 통한 모델의 정확도 평가\n",
    "모델을 학습시킨 후에는 정확도를 평가하는 작업이 필요합니다. 모델의 정확성은 모델에 의한 예측이 얼마나 신뢰할 수 있는지에 대한 아이디어를 제공합니다.\n",
    "\n",
    "**scitkit-learn**와 **numpy** 라이브러리는 모두 모델의 정확도 측정에 유용합니다."
   ]
  },
  {
   "cell_type": "markdown",
   "metadata": {},
   "source": [
    "지난 시간에 한 학습된 선형 회귀 모델을 다시 만들어봅시다."
   ]
  },
  {
   "cell_type": "code",
   "execution_count": 1,
   "metadata": {},
   "outputs": [],
   "source": [
    "import pandas as pd\n",
    "from sklearn.model_selection import train_test_split\n",
    "from sklearn.linear_model import LinearRegression"
   ]
  },
  {
   "cell_type": "code",
   "execution_count": 2,
   "metadata": {},
   "outputs": [],
   "source": [
    "# csv 파일로부터 데이터 불러오기\n",
    "delays_df = pd.read_csv('Data/Lots_of_flight_data.csv') \n",
    "\n",
    "# 선형 회귀 모델 학습을 방해하는 null 값을 포함한 행 제거\n",
    "delays_df.dropna(inplace=True)\n",
    "\n",
    "# X DataFrame에 특성 옮기기\n",
    "X = delays_df.loc[:,['DISTANCE', 'CRS_ELAPSED_TIME']]\n",
    "\n",
    "# y DataFrame에 레이블 값 옮기기\n",
    "y = delays_df.loc[:,['ARR_DELAY']] \n",
    "\n",
    "# 테스트용 DataFrame과 학습용 DataFrame으로 데이터 나누기\n",
    "X_train, X_test, y_train, y_test = train_test_split(\n",
    "                                                    X, \n",
    "                                                    y, \n",
    "                                                    test_size=0.3, \n",
    "                                                    random_state=42\n",
    "                                                   )\n",
    "regressor = LinearRegression()     # scikit learn LinearRegression 객체 생성\n",
    "regressor.fit(X_train, y_train)    # fit 메소드를 사용하여 훈련 데이터의 모델 학습\n",
    "\n",
    "y_pred = regressor.predict(X_test)"
   ]
  },
  {
   "cell_type": "markdown",
   "metadata": {},
   "source": [
    "## 정확도 측정\n",
    "이제 학습된 모델이 있으므로 모델의 정확성을 확인하는 데 사용할 수있는 여러 메트릭이 있습니다.\n",
    "\n",
    "이 모든 측정 항목은 수학적 계산을 기반으로합니다. 여기서 중요한 점은 모든 것을 직접 계산할 필요가 없다는 것입니다. Scikit-learn과 numpy는 대부분의 작업을 수행하고 좋은 성능을 제공합니다."
   ]
  },
  {
   "cell_type": "markdown",
   "metadata": {},
   "source": [
    "### 평균 제곱 오차 (MSE)\n",
    "MSE는 관찰 결과를 예측할 때 모델이 수행 한 평균 오차입니다. MSE가 낮을수록 모델이 더 좋습니다.\n",
    "\n",
    "MSE는 관찰된 실제 결과값과 모델에서 예측한 값 간의 평균 제곱의 차이입니다.\n",
    "\n",
    "MSE = mean((actuals - predicteds)^2)\n",
    "\n",
    "이 계산을 수행하기 위해 실제 값과 예측한 값을 비교하는 레코드를 반복하는 코드를 작성할 수 있지만 그럴 필요는 없습니다! ** scikit-learn ** 라이브러리에서 ** mean_squared_error **를 사용하세요."
   ]
  },
  {
   "cell_type": "code",
   "execution_count": 3,
   "metadata": {},
   "outputs": [
    {
     "name": "stdout",
     "output_type": "stream",
     "text": [
      "Mean Squared Error: 2250.4445141530855\n"
     ]
    }
   ],
   "source": [
    "from sklearn import metrics\n",
    "print('Mean Squared Error:', metrics.mean_squared_error(y_test, y_pred))"
   ]
  },
  {
   "cell_type": "markdown",
   "metadata": {},
   "source": [
    "## 평균 제곱근 오차 (RMSE)\n",
    "RMSE는 관찰 결과를 예측할 때 모델에서 수행한 평균 오차입니다. RMSE가 낮을수록 모델이 더 좋습니다.\n",
    "\n",
    "수학적으로 RMSE는 평균 제곱 오차의 제곱근입니다.\n",
    "\n",
    "RMSE = sqrt(MSE)\n",
    "\n",
    "Skikit learn에는 RMSE에 대한 함수가 없지만 MSE의 제곱근이기 때문에 많은 수학적 함수가 포함 된 numpy 라이브러리를 사용하여 MSE의 제곱근을 계산할 수 있습니다."
   ]
  },
  {
   "cell_type": "code",
   "execution_count": null,
   "metadata": {},
   "outputs": [],
   "source": [
    "import numpy as np\n",
    "print('Root Mean Squared Error:', np.sqrt(metrics.mean_squared_error(y_test, y_pred)))"
   ]
  },
  {
   "cell_type": "markdown",
   "metadata": {},
   "source": [
    "## 평균 절대 오차 (MAE)\n",
    "MAE는 예측 오류를 측정합니다. MAE가 낮을수록 모델이 더 좋습니다.\n",
    "\n",
    "수학적으로 관찰된 결과와 예측된 결과의 평균 절대 차이입니다.\n",
    "\n",
    "MAE = mean(abs(actuals - predicteds)). \n",
    "\n",
    "MAE는 RMSE에 비해 이상점에 덜 민감합니다. ** scikit-learn ** 라이브러리에서 ** mean_absolute_error **를 사용하여 RMSE를 계산합니다."
   ]
  },
  {
   "cell_type": "code",
   "execution_count": null,
   "metadata": {},
   "outputs": [],
   "source": [
    "print('Mean absolute error: ',metrics.mean_absolute_error(y_test, y_pred))"
   ]
  },
  {
   "cell_type": "markdown",
   "metadata": {},
   "source": [
    "# R^2 이나 R 제곱\n",
    "\n",
    "R 제곱은 예측 변수로 설명되는 결과의 변동 비율입니다. 모델에 전달 된 값이 예측 값에 얼마나 영향을 미치는지 나타냅니다.\n",
    "\n",
    "R 제곱이 높을수록 모델이 더 좋습니다. ** scikit-learn ** 라이브러리에서 ** r2_score **를 사용하여 R- 제곱을 계산합니다."
   ]
  },
  {
   "cell_type": "code",
   "execution_count": null,
   "metadata": {},
   "outputs": [],
   "source": [
    "print('R^2: ',metrics.r2_score(y_test, y_pred))"
   ]
  },
  {
   "cell_type": "markdown",
   "metadata": {},
   "source": [
    "모델마다 정확도를 측정하는 방법이 다릅니다. 다행히 ** scikit-learn ** 및 ** numpy **는 정확도 측정에 도움이되는 다양한 기능을 제공합니다."
   ]
  }
 ],
 "metadata": {
  "kernelspec": {
   "display_name": "Python 3",
   "language": "python",
   "name": "python3"
  },
  "language_info": {
   "codemirror_mode": {
    "name": "ipython",
    "version": 3
   },
   "file_extension": ".py",
   "mimetype": "text/x-python",
   "name": "python",
   "nbconvert_exporter": "python",
   "pygments_lexer": "ipython3",
   "version": "3.6.9"
  }
 },
 "nbformat": 4,
 "nbformat_minor": 2
}