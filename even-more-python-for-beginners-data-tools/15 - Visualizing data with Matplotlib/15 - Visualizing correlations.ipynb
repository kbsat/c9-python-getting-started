{
 "cells": [
  {
   "cell_type": "markdown",
   "metadata": {},
   "source": [
    "# Matplotlib를 이용한 데이터 시각화"
   ]
  },
  {
   "cell_type": "markdown",
   "metadata": {},
   "source": [
    "그래프는 데이터를 시각화하는 가장 좋은 방법입니다.\n",
    "\n",
    "**matplotlib** 라이브러리는 시각화를 돕는 그래프를 그리는 것을 제공합니다.\n",
    "\n",
    "데이터를 시각화하기 원한다면 DataFrame으로 데이터를 불러오는 것이 필요합니다."
   ]
  },
  {
   "cell_type": "code",
   "execution_count": null,
   "metadata": {},
   "outputs": [],
   "source": [
    "import pandas as pd"
   ]
  },
  {
   "cell_type": "code",
   "execution_count": null,
   "metadata": {},
   "outputs": [],
   "source": [
    "# csv 파일로부터 데이터를 불러오기\n",
    "delays_df = pd.read_csv('Data/Lots_of_flight_data.csv') "
   ]
  },
  {
   "cell_type": "markdown",
   "metadata": {},
   "source": [
    "plot을 표시하려면 ** matplotlib ** 라이브러리를 가져와야합니다."
   ]
  },
  {
   "cell_type": "code",
   "execution_count": null,
   "metadata": {},
   "outputs": [],
   "source": [
    "import matplotlib.pyplot as plt"
   ]
  },
  {
   "cell_type": "markdown",
   "metadata": {},
   "source": [
    "데이터 과학에서 사용되는 일반적인 플롯은 두 열 간의 관계를 확인하기위한 산점도입니다.\n",
    "사방에 점이 흩어져있는 경우 두 열간에 상관 관계가없는 것입니다.\n",
    "선과 닮은 부분이 보이면 두 열 사이에 상관 관계가있는 것입니다.\n",
    "\n",
    "DataFrame의 plot 메서드를 사용하여 산점도를 그릴 수 있습니다.\n",
    "* kind - 그릴 그래프의 타입\n",
    "* x - x로 표시할 값\n",
    "* y - y로 표시할 값\n",
    "* color - 그래프 점에 사용할 색상\n",
    "* alpha - 불투명도 - 산점도에서 점의 밀도를 표시하는 데 유용합니다.\n",
    "* title - 그래프의 제목"
   ]
  },
  {
   "cell_type": "code",
   "execution_count": null,
   "metadata": {
    "scrolled": true
   },
   "outputs": [],
   "source": [
    "# 항공편 거리와 항공편 도착 늦게 사이에 관계가 있는지 확인\n",
    "delays_df.plot(\n",
    "               kind='scatter',\n",
    "               x='DISTANCE',\n",
    "               y='ARR_DELAY',\n",
    "               color='blue',\n",
    "               alpha=0.3,\n",
    "               title='Correlation of arrival and distance'\n",
    "              )\n",
    "plt.show()"
   ]
  },
  {
   "cell_type": "code",
   "execution_count": null,
   "metadata": {},
   "outputs": [],
   "source": [
    "# 항공편 출발 시간과 도착 시간 사이에 관계가 있는지 확인하세요.\n",
    "delays_df.plot(\n",
    "               kind='scatter',\n",
    "               x='DEP_DELAY',\n",
    "               y='ARR_DELAY',\n",
    "               color='blue',\n",
    "               alpha=0.3,\n",
    "               title='Correlation of arrival and departure delay'\n",
    "              )\n",
    "plt.show()"
   ]
  },
  {
   "cell_type": "markdown",
   "metadata": {},
   "source": [
    "산점도를 통해 거리와 도착 지연 사이에는 상관 관계가 없지만 출발 지연과 도착 지연 사이에는 강한 상관 관계가 있음을 알 수 있습니다."
   ]
  }
 ],
 "metadata": {
  "kernelspec": {
   "display_name": "Python 3",
   "language": "python",
   "name": "python3"
  },
  "language_info": {
   "codemirror_mode": {
    "name": "ipython",
    "version": 3
   },
   "file_extension": ".py",
   "mimetype": "text/x-python",
   "name": "python",
   "nbconvert_exporter": "python",
   "pygments_lexer": "ipython3",
   "version": "3.7.3"
  }
 },
 "nbformat": 4,
 "nbformat_minor": 2
}