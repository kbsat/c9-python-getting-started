{
 "cells": [
  {
   "cell_type": "markdown",
   "metadata": {},
   "source": [
    "# 선형 회귀 모델 학습\n",
    "준비된 데이터가 있다면 모델을 학습할 수 있습니다.\n",
    "\n",
    "모델을 학습하기 위해 호출할 수 있는 여러 라이브러리와 메소드가 있습니다. 이 notebook에서는 **scikit-learn** 라이브러리의 **LinearRegression** 모델을 사용합니다."
   ]
  },
  {
   "cell_type": "markdown",
   "metadata": {},
   "source": [
    "우리는 데이터가 저장되고 모든 행에 null 값이 없어야하며 특징과 레이블이 학습 데이터, 테스트 데이터로 분리된 DataFrame이 필요합니다. 그래서 우리는 이전 notebook으의 명령어를 다시 실행할 것입니다."
   ]
  },
  {
   "cell_type": "code",
   "execution_count": 1,
   "metadata": {},
   "outputs": [],
   "source": [
    "import pandas as pd\n",
    "from sklearn.model_selection import train_test_split"
   ]
  },
  {
   "cell_type": "code",
   "execution_count": 2,
   "metadata": {},
   "outputs": [],
   "source": [
    "# csv 파일로부터 데이터 불러오기\n",
    "delays_df = pd.read_csv('Data/Lots_of_flight_data.csv') \n",
    "\n",
    "# 선형 회귀 모델 학습을 방해하는 null 값을 포함한 행 제거\n",
    "delays_df.dropna(inplace=True)\n",
    "\n",
    "# X DataFrame에 특성 옮기기\n",
    "X = delays_df.loc[:,['DISTANCE', 'CRS_ELAPSED_TIME']]\n",
    "\n",
    "# y DataFrame에 레이블 값 옮기기\n",
    "y = delays_df.loc[:,['ARR_DELAY']] \n",
    "\n",
    "# 테스트용 DataFrame과 학습용 DataFrame으로 데이터 나누기\n",
    "X_train, X_test, y_train, y_test = train_test_split(\n",
    "                                                    X, \n",
    "                                                    y, \n",
    "                                                    test_size=0.3, \n",
    "                                                    random_state=42\n",
    "                                                   )"
   ]
  },
  {
   "cell_type": "markdown",
   "metadata": {},
   "source": [
    "X_train과 y_train가 저장된 학습용 데이터를 기반으로 선형 회귀 모델을 학습하는데 **Scikitlearn LinearRegression** *fit* 메소드를 이용합니다. "
   ]
  },
  {
   "cell_type": "code",
   "execution_count": 5,
   "metadata": {},
   "outputs": [
    {
     "data": {
      "text/plain": [
       "LinearRegression(copy_X=True, fit_intercept=True, n_jobs=None, normalize=False)"
      ]
     },
     "execution_count": 5,
     "metadata": {},
     "output_type": "execute_result"
    }
   ],
   "source": [
    "from sklearn.linear_model import LinearRegression\n",
    "\n",
    "regressor = LinearRegression()     # scikit learn LinearRegression 객체 생성\n",
    "regressor.fit(X_train, y_train)    # fit 메소드를 사용하여 훈련 데이터의 모델 학습"
   ]
  },
  {
   "cell_type": "markdown",
   "metadata": {},
   "source": [
    "*regressor* 객체는 현재 학습된 선형 회귀 모델을 담고 있습니다."
   ]
  }
 ],
 "metadata": {
  "kernelspec": {
   "display_name": "Python 3",
   "language": "python",
   "name": "python3"
  },
  "language_info": {
   "codemirror_mode": {
    "name": "ipython",
    "version": 3
   },
   "file_extension": ".py",
   "mimetype": "text/x-python",
   "name": "python",
   "nbconvert_exporter": "python",
   "pygments_lexer": "ipython3",
   "version": "3.6.9"
  }
 },
 "nbformat": 4,
 "nbformat_minor": 2
}